{
 "cells": [
  {
   "cell_type": "markdown",
   "metadata": {},
   "source": [
    "## Before Starting...\n",
    "Before getting into this, it would be better to read the SVCCA paper: https://arxiv.org/abs/1706.05806\n",
    "And have a good understanding of what SVCCA does and the results to expect from it: https://github.com/google/svcca/.\n",
    "The same applies for CKA: https://arxiv.org/pdf/1905.00414.pdf\n",
    "\n",
    "## Why SVCCA?\n",
    "The reason for choosing SVCCA over a diagnostic classifier, for example, is that SVCCA can be run between different models and different layers, also trained on different data, making it model and dataset agnostic. This is a huge plus, since it can help test hypothesis on models trained on different levels of abstraction, for example. In this notebook, however, we will test activations within the same layer for different input classes. The question is: which classes share most similarity in the activations? Can any assumtpion be made on the results?"
   ]
  },
  {
   "cell_type": "code",
   "execution_count": null,
   "metadata": {},
   "outputs": [],
   "source": [
    "import torch\n",
    "import torchvision\n",
    "import torchvision.transforms as transforms\n",
    "import cca_core # This is google's svcca module: https://github.com/google/svcca/\n",
    "import torchCKA as CKA # This module is derived from https://colab.research.google.com/github/google-research/google-research/blob/master/representation_similarity/Demo.ipynb\n",
    "import matplotlib.pyplot as plt\n",
    "import numpy as np\n",
    "\n",
    "print(\"torch version\", torch.__version__)\n",
    "print(\"torchvision version\", torchvision.__version__)\n",
    "\n",
    "# assert torch.__version__ == \"1.7.0\"\n",
    "\n",
    "if torch.cuda.is_available():\n",
    "    device = \"cuda\""
   ]
  },
  {
   "cell_type": "markdown",
   "metadata": {},
   "source": [
    "## Load CIFAR10\n",
    "\n",
    "Load the CIFAR10 dataset with torchvision and create a dictionary of the classes for later use, we will map the labels to the class"
   ]
  },
  {
   "cell_type": "code",
   "execution_count": 2,
   "metadata": {},
   "outputs": [
    {
     "name": "stdout",
     "output_type": "stream",
     "text": [
      "Files already downloaded and verified\n",
      "Files already downloaded and verified\n"
     ]
    },
    {
     "data": {
      "text/plain": [
       "{0: 'plane',\n",
       " 1: 'car',\n",
       " 2: 'bird',\n",
       " 3: 'cat',\n",
       " 4: 'deer',\n",
       " 5: 'dog',\n",
       " 6: 'frog',\n",
       " 7: 'horse',\n",
       " 8: 'ship',\n",
       " 9: 'truck'}"
      ]
     },
     "execution_count": 2,
     "metadata": {},
     "output_type": "execute_result"
    }
   ],
   "source": [
    "transform = transforms.Compose(\n",
    "    [transforms.ToTensor(),\n",
    "     transforms.Normalize((0.5, 0.5, 0.5), (0.5, 0.5, 0.5))])\n",
    "\n",
    "trainset = torchvision.datasets.CIFAR10(root='./data', train=True,\n",
    "                                        download=True, transform=transform)\n",
    "\n",
    "trainloader = torch.utils.data.DataLoader(trainset, batch_size=4,\n",
    "                                          shuffle=True, num_workers=2)\n",
    "\n",
    "testset = torchvision.datasets.CIFAR10(root='./data', train=False,\n",
    "                                       download=True, transform=transform)\n",
    "\n",
    "testloader = torch.utils.data.DataLoader(testset, batch_size=1,\n",
    "                                         shuffle=False, num_workers=2)\n",
    "\n",
    "classes = ('plane', 'car', 'bird', 'cat','deer', 'dog', 'frog', 'horse', 'ship', 'truck')\n",
    "id_classes = dict(enumerate(classes))\n",
    "id_classes"
   ]
  },
  {
   "cell_type": "markdown",
   "metadata": {},
   "source": [
    "## Create Model\n",
    "\n",
    "We use the same model from PyTorch's introductory tutorial https://pytorch.org/tutorials/beginner/blitz/cifar10_tutorial.html.\n",
    "We add some methods and the `self.activations` attribute to help us save the activations and analyze them.\n",
    "The plot helper is from google's svcca module.\n",
    "`_save activations` will save the activations for each label as numpy arrays.\n",
    "`get_similarities` will calculate SVCCA or CKA between the activations of each label, it will call `_reshape_same_layer_activations` since we are going to calculate similarities between activations of the same layer, but for different input classes.\n",
    "We add in the forward step the points where we want to save activations."
   ]
  },
  {
   "cell_type": "code",
   "execution_count": 3,
   "metadata": {},
   "outputs": [],
   "source": [
    "import torch.nn as nn\n",
    "import torch.nn.functional as F\n",
    "import pickle\n",
    "\n",
    "class Net(nn.Module):\n",
    "    def __init__(self):\n",
    "        super(Net, self).__init__()\n",
    "        self.conv1 = nn.Conv2d(3, 16, 5)\n",
    "        self.pool = nn.MaxPool2d(2, 2)\n",
    "        self.conv2 = nn.Conv2d(16, 16, 5)\n",
    "        self.fc1 = nn.Linear(16 * 5 * 5, 120)\n",
    "        self.fc2 = nn.Linear(120, 84)\n",
    "        self.fc3 = nn.Linear(84, 10)\n",
    "        self.activations = dict()\n",
    "        \n",
    "    def _save_activations(self, activations, name):\n",
    "        \"\"\"Saves activations in the self.activations attribute with the label name as key\"\"\"\n",
    "        if name not in self.activations:\n",
    "            self.activations[name] = []\n",
    "        activations = activations.cpu().clone().detach().numpy()\n",
    "        self.activations[name].append(activations)\n",
    "    \n",
    "    @staticmethod\n",
    "    def _reshape_same_layer_activations(activations):\n",
    "        \"\"\"reshapes activation arrays with identical shapes according to google's svcca tutorial on CNN\"\"\"\n",
    "        activations = np.vstack(activations)\n",
    "        activations = activations.transpose((0,2,3,1))\n",
    "        num_datapoints, h, w, channels = activations.shape\n",
    "        activations_reshaped = activations.reshape((num_datapoints*h*w, channels))\n",
    "        return activations_reshaped\n",
    "    \n",
    "    @staticmethod\n",
    "    def _plot_helper(arr, xlabel, ylabel, i=None, j=None):\n",
    "        if j and i:\n",
    "            plt.plot(arr, lw=2.0, label=i+\" : \"+j)\n",
    "        else:\n",
    "            plt.plot(arr, lw=2.0)\n",
    "        plt.xlabel(xlabel)\n",
    "        plt.ylabel(ylabel)\n",
    "        plt.title(f\"{i} : {j}\")\n",
    "        plt.grid()\n",
    "        plt.legend()\n",
    "    \n",
    "    def get_similarities(self, threshold=0.1, layer=1, verbose=False, algo=\"svcca\"):\n",
    "        \"\"\"For each saved labels' activations, calculates similarities with the other saved labels\"\"\"\n",
    "        import time\n",
    "        layer = str(layer)\n",
    "        names = list(self.activations.keys())\n",
    "        results = dict()\n",
    "        for i in range(len(names)):\n",
    "            for j in range(len(names)):\n",
    "                if names[i].endswith(layer) and names[j].endswith(layer) and i != j and j > i:\n",
    "                    activations_reshaped1 = self._reshape_same_layer_activations(net.activations[names[i]])\n",
    "                    activations_reshaped2 = self._reshape_same_layer_activations(net.activations[names[j]])\n",
    "                    start = time.time()\n",
    "                    if algo.lower() == \"svcca\":\n",
    "                        f_results = cca_core.get_cca_similarity(activations_reshaped1.T, activations_reshaped2.T, verbose=False)\n",
    "                        if f_results[\"cca_coef1\"][0] > threshold: # SVCCA output values are already sorted\n",
    "                            self._plot_helper(f_results[\"cca_coef1\"], \"CCA Coef idx\", \"CCA coef value\", names[i], names[j])\n",
    "                            if verbose:\n",
    "                                print(f\"{names[i]} : {names[j]}\")\n",
    "                                print(np.mean(f_results[\"cca_coef1\"]), \"CCA Coef idx\", \"CCA coef value\")\n",
    "                    elif algo.lower() == \"cka\":\n",
    "                        if names[i][-2:] == names[j][-2:] and i != j and j > i:\n",
    "                            result = CKA.feature_space_linear_cka(activations_reshaped1[:], activations_reshaped2[:], debiased=False)\n",
    "                            results[f\"{names[i]} : {names[j]}\"] = result\n",
    "        if results:\n",
    "            results = dict(sorted(results.items(), key=lambda item: item[1]))\n",
    "        return results\n",
    "                            \n",
    "    \n",
    "    def forward(self, x, save_activations=False):\n",
    "        \"\"\"\n",
    "        :params x: input vector\n",
    "        :params save_activations: default False, should be provided a string which is the label's class name.\n",
    "        \"\"\"\n",
    "        x = self.conv1(x)\n",
    "        if save_activations:\n",
    "            self._save_activations(x, save_activations+\"_1\")\n",
    "        x = self.pool(F.relu(x))\n",
    "        x = self.conv2(x)\n",
    "        if save_activations:\n",
    "            self._save_activations(x, save_activations+\"_2\")\n",
    "        x = self.pool(F.relu(x))\n",
    "        x = x.view(-1, 16 * 5 * 5)\n",
    "        x = F.relu(self.fc1(x))\n",
    "        x = F.relu(self.fc2(x))\n",
    "        x = self.fc3(x)\n",
    "        return x\n",
    "\n",
    "\n",
    "net = Net().to(device)"
   ]
  },
  {
   "cell_type": "markdown",
   "metadata": {},
   "source": [
    "## Training the model\n",
    "\n",
    "We now train the model just like in the tutorial from PyTorch"
   ]
  },
  {
   "cell_type": "code",
   "execution_count": 4,
   "metadata": {},
   "outputs": [],
   "source": [
    "import torch.optim as optim\n",
    "\n",
    "criterion = nn.CrossEntropyLoss()\n",
    "optimizer = optim.Adam(net.parameters(), lr=0.001)"
   ]
  },
  {
   "cell_type": "code",
   "execution_count": 5,
   "metadata": {},
   "outputs": [
    {
     "name": "stdout",
     "output_type": "stream",
     "text": [
      "[1,  1000] loss: 2.050\n",
      "[1,  2000] loss: 1.795\n",
      "[1,  3000] loss: 1.653\n",
      "[1,  4000] loss: 1.587\n",
      "[1,  5000] loss: 1.578\n",
      "[1,  6000] loss: 1.520\n",
      "[1,  7000] loss: 1.510\n",
      "[1,  8000] loss: 1.502\n",
      "[1,  9000] loss: 1.498\n",
      "[1, 10000] loss: 1.432\n",
      "[1, 11000] loss: 1.423\n",
      "[1, 12000] loss: 1.416\n",
      "Finished Training\n"
     ]
    }
   ],
   "source": [
    "for epoch in range(1):  # loop over the dataset multiple times\n",
    "\n",
    "    running_loss = 0.0\n",
    "    for i, data in enumerate(trainloader, 0):\n",
    "        # get the inputs; data is a list of [inputs, labels]\n",
    "        inputs, labels = data\n",
    "\n",
    "        # zero the parameter gradients\n",
    "        optimizer.zero_grad()\n",
    "\n",
    "        # forward + backward + optimize\n",
    "        outputs = net(inputs.to(device))\n",
    "        loss = criterion(outputs.to(device), labels.to(device))\n",
    "        loss.backward()\n",
    "        optimizer.step()\n",
    "\n",
    "        # print statistics\n",
    "        running_loss += loss.item()\n",
    "        if i % 1000 == 999:    # print every 2000 mini-batches\n",
    "            print('[%d, %5d] loss: %.3f' %\n",
    "                  (epoch + 1, i + 1, running_loss / 1000))\n",
    "            running_loss = 0.0\n",
    "\n",
    "print('Finished Training')"
   ]
  },
  {
   "cell_type": "markdown",
   "metadata": {},
   "source": [
    "## Testing and saving activations\n",
    "\n",
    "Now we run the test set through the model. To keep things simple, the batch size for the test set is set to 1, so that we can easily check to which label the input belongs to and to which activations key it must be mapped to. So, we pass the class name as the `save_activations` parameter."
   ]
  },
  {
   "cell_type": "code",
   "execution_count": 6,
   "metadata": {},
   "outputs": [
    {
     "name": "stdout",
     "output_type": "stream",
     "text": [
      "Accuracy of the network on the 10000 test images: 48 %\n"
     ]
    }
   ],
   "source": [
    "correct = 0\n",
    "total = 0\n",
    "with torch.no_grad():\n",
    "    for data in testloader:\n",
    "        images, labels = data\n",
    "        outputs = net(images.to(device), save_activations=id_classes[labels[0].item()])\n",
    "        _, predicted = torch.max(outputs.data, 1)\n",
    "        total += labels.size(0)\n",
    "        correct += (predicted.to(\"cpu\") == labels).sum().item()\n",
    "\n",
    "print('Accuracy of the network on the 10000 test images: %d %%' % (\n",
    "    100 * correct / total))"
   ]
  },
  {
   "cell_type": "markdown",
   "metadata": {},
   "source": [
    "## Getting similarities\n",
    "\n",
    "We now calculate similarities. The threshold will check for the highest node similarity score in the SVCCA results, so that we can filter low scoring nodes.\n",
    "\n",
    "As we can see, ships and trucks seem to be the most similar, which kind of makes sense, they have very different shapes and colors than animals. while the second most similar pair is ships and horses (horses pop up often, maybe because in the images they are often seen on the side and so are developed horizontally like these other objects?"
   ]
  },
  {
   "cell_type": "code",
   "execution_count": 7,
   "metadata": {},
   "outputs": [
    {
     "name": "stdout",
     "output_type": "stream",
     "text": [
      "ship_1 : plane_1\n",
      "0.020877336080792334 CCA Coef idx CCA coef value\n",
      "ship_1 : car_1\n",
      "0.02187570960159329 CCA Coef idx CCA coef value\n",
      "ship_1 : truck_1\n",
      "0.025358718771577082 CCA Coef idx CCA coef value\n",
      "ship_1 : horse_1\n",
      "0.021508047926601714 CCA Coef idx CCA coef value\n",
      "plane_1 : truck_1\n",
      "0.01810996044653657 CCA Coef idx CCA coef value\n",
      "plane_1 : horse_1\n",
      "0.016480867519560276 CCA Coef idx CCA coef value\n",
      "car_1 : truck_1\n",
      "0.01896830237074504 CCA Coef idx CCA coef value\n",
      "truck_1 : horse_1\n",
      "0.02080101086635109 CCA Coef idx CCA coef value\n"
     ]
    },
    {
     "data": {
      "text/plain": [
       "{}"
      ]
     },
     "execution_count": 7,
     "metadata": {},
     "output_type": "execute_result"
    },
    {
     "data": {
      "image/png": "[encoded data removed]",
      "text/plain": [
       "<Figure size 432x288 with 1 Axes>"
      ]
     },
     "metadata": {
      "needs_background": "light"
     },
     "output_type": "display_data"
    }
   ],
   "source": [
    "net.get_similarities(threshold=.1, verbose=True)               "
   ]
  },
  {
   "cell_type": "markdown",
   "metadata": {},
   "source": [
    "# CKA\n",
    "Let's now try to calculate similarity between classes using CKA. \n",
    "- Paper: https://arxiv.org/pdf/1905.00414.pdf\n",
    "- Colab from which the module here used is derived: https://colab.research.google.com/github/google-research/google-research/blob/master/representation_similarity/Demo.ipynb"
   ]
  },
  {
   "cell_type": "code",
   "execution_count": null,
   "metadata": {},
   "outputs": [],
   "source": [
    "import matplotlib.pyplot as plt\n",
    "\n",
    "cka_results = net.get_similarities(verbose=True, algo=\"cka\", layer=2)"
   ]
  },
  {
   "cell_type": "code",
   "execution_count": 9,
   "metadata": {},
   "outputs": [
    {
     "data": {
      "text/plain": [
       "<BarContainer object of 10 artists>"
      ]
     },
     "execution_count": 9,
     "metadata": {},
     "output_type": "execute_result"
    },
    {
     "data": {
      "image/png": "[encoded data removed]",
      "text/plain": [
       "<Figure size 432x288 with 1 Axes>"
      ]
     },
     "metadata": {
      "needs_background": "light"
     },
     "output_type": "display_data"
    }
   ],
   "source": [
    "plt.barh(list(cka_results.keys())[:10], list(cka_results.values())[:10])\n"
   ]
  },
  {
   "cell_type": "code",
   "execution_count": 10,
   "metadata": {},
   "outputs": [
    {
     "data": {
      "text/plain": [
       "<BarContainer object of 10 artists>"
      ]
     },
     "execution_count": 10,
     "metadata": {},
     "output_type": "execute_result"
    },
    {
     "data": {
      "image/png": "[encoded data removed]",
      "text/plain": [
       "<Figure size 432x288 with 1 Axes>"
      ]
     },
     "metadata": {
      "needs_background": "light"
     },
     "output_type": "display_data"
    }
   ],
   "source": [
    "cka_results = net.get_similarities(verbose=True, algo=\"cka\", layer=1)\n",
    "plt.barh(list(cka_results.keys())[:10], list(cka_results.values())[:10])\n"
   ]
  }
 ],
 "metadata": {
  "kernelspec": {
   "display_name": "Python 3",
   "language": "python",
   "name": "python3"
  },
  "language_info": {
   "codemirror_mode": {
    "name": "ipython",
    "version": 3
   },
   "file_extension": ".py",
   "mimetype": "text/x-python",
   "name": "python",
   "nbconvert_exporter": "python",
   "pygments_lexer": "ipython3",
   "version": "3.8.5"
  }
 },
 "nbformat": 4,
 "nbformat_minor": 4
}
